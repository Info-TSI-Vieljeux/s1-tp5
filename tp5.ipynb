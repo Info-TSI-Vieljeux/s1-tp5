{
 "cells": [
  {
   "cell_type": "markdown",
   "id": "cf7b543d",
   "metadata": {},
   "source": [
    ">Ouvrir le notebook dans Colab en modifiant le début de son adresse dans le navigateur :<br>\n",
    "il faut remplacer **github.com** par **githubtocolab.com**.<br>\n",
    "Une fois vos réponses apportées, le notebook devra être sauvegardé dans GitHub, dans le repository du TP :<br>\n",
    "*Fichier > Enregistrer une copie dans Github*<br>\n",
    "*Info-TSI-Vieljeux/tpx-votre_nom*<br>\n",
    "\n",
    "---"
   ]
  },
  {
   "cell_type": "markdown",
   "id": "c740f854",
   "metadata": {
    "deletable": false,
    "editable": false,
    "nbgrader": {
     "cell_type": "markdown",
     "checksum": "324e281bfbaa0fdd91d5ffc3c850ceff",
     "grade": false,
     "grade_id": "cell-fce8f2ec2d2db5b7",
     "locked": true,
     "schema_version": 3,
     "solution": false,
     "task": false
    }
   },
   "source": [
    "# Récursivité"
   ]
  },
  {
   "cell_type": "code",
   "execution_count": null,
   "id": "1d0404c1",
   "metadata": {
    "deletable": false,
    "editable": false,
    "nbgrader": {
     "cell_type": "code",
     "checksum": "e8d4f6e9c259c9329b9bb4e3babae32c",
     "grade": false,
     "grade_id": "cell-c0ac44a57a68ca35",
     "locked": true,
     "schema_version": 3,
     "solution": false,
     "task": false
    }
   },
   "outputs": [],
   "source": [
    "from IPython.display import Image,YouTubeVideo\n",
    "YouTubeVideo('lIIXLQvcd4Q', width=960, height=540)"
   ]
  },
  {
   "cell_type": "code",
   "execution_count": null,
   "id": "121b38de",
   "metadata": {},
   "outputs": [],
   "source": [
    "%%capture\n",
    "import numpy as np\n",
    "import matplotlib.pyplot as plt\n",
    "from matplotlib.patches import Rectangle\n",
    "plt.style.use('seaborn')\n",
    "plt.rcParams['figure.figsize'] = (14, 14)\n",
    "fig, ax = plt.subplots()\n",
    "ax.set_aspect(1)\n",
    "couleurs = plt.rcParams['axes.prop_cycle'].by_key()['color']"
   ]
  },
  {
   "cell_type": "markdown",
   "id": "09522ada",
   "metadata": {
    "deletable": false,
    "editable": false,
    "nbgrader": {
     "cell_type": "markdown",
     "checksum": "e1304ee29bf7cd48bed231c8bea35f43",
     "grade": false,
     "grade_id": "cell-72a0185815c9117b",
     "locked": true,
     "schema_version": 3,
     "solution": false,
     "task": false
    }
   },
   "source": [
    "## Visualisation des appels récursifs"
   ]
  },
  {
   "cell_type": "markdown",
   "id": "0bb16f42",
   "metadata": {
    "deletable": false,
    "editable": false,
    "nbgrader": {
     "cell_type": "markdown",
     "checksum": "1d9c1cce9d84a3c2795b90d68b2212d4",
     "grade": false,
     "grade_id": "cell-b97b77026df41180",
     "locked": true,
     "schema_version": 3,
     "solution": false,
     "task": false
    }
   },
   "source": [
    "Installons un module permettant de représenter sous forme de graphe les différents appels récursifs d'une fonction."
   ]
  },
  {
   "cell_type": "code",
   "execution_count": null,
   "id": "64fd66ff",
   "metadata": {
    "deletable": false,
    "editable": false,
    "nbgrader": {
     "cell_type": "code",
     "checksum": "9d9a54146f27cd8c0fb7dcc2a492b1dc",
     "grade": false,
     "grade_id": "cell-58c42081b1615580",
     "locked": true,
     "schema_version": 3,
     "solution": false,
     "task": false
    }
   },
   "outputs": [],
   "source": [
    "%%capture\n",
    "!pip install recursionvisualisation==0.2 "
   ]
  },
  {
   "cell_type": "code",
   "execution_count": null,
   "id": "84e3ea5d",
   "metadata": {
    "deletable": false,
    "editable": false,
    "nbgrader": {
     "cell_type": "code",
     "checksum": "3abbdb4acd1fe4dbdbc56717c21d9599",
     "grade": false,
     "grade_id": "cell-b82bc33a08dd92a5",
     "locked": true,
     "schema_version": 3,
     "solution": false,
     "task": false
    }
   },
   "outputs": [],
   "source": [
    "from recursionvisualisation import viz, CallGraph"
   ]
  },
  {
   "cell_type": "markdown",
   "id": "e35d2cee",
   "metadata": {
    "deletable": false,
    "editable": false,
    "nbgrader": {
     "cell_type": "markdown",
     "checksum": "65039b4fbf956f0692dd4983a9e4100c",
     "grade": false,
     "grade_id": "cell-30c3da3300e6ba9a",
     "locked": true,
     "schema_version": 3,
     "solution": false,
     "task": false
    }
   },
   "source": [
    "On construit une fonction récursive `somme(n)` qui retourne la somme des n premiers entiers et on utilise un décorateur (fonction qui modifie le comportement d'autres fonctions) pour visualiser les différents appels récursifs faits par `somme`."
   ]
  },
  {
   "cell_type": "code",
   "execution_count": null,
   "id": "0b34fa80",
   "metadata": {
    "deletable": false,
    "editable": false,
    "nbgrader": {
     "cell_type": "code",
     "checksum": "2e4e131b8c1252d933c578fd80ffb741",
     "grade": false,
     "grade_id": "cell-6ae90bd2a752a751",
     "locked": true,
     "schema_version": 3,
     "solution": false,
     "task": false
    }
   },
   "outputs": [],
   "source": [
    "cg = CallGraph()\n",
    "@viz(cg) # décorateur\n",
    "\n",
    "def somme(n):\n",
    "    if n < 1:\n",
    "        return 0\n",
    "    return n + somme(n - 1)"
   ]
  },
  {
   "cell_type": "code",
   "execution_count": null,
   "id": "fb437dfa",
   "metadata": {},
   "outputs": [],
   "source": [
    "print(f'somme(5) = {somme(5)}')\n",
    "cg"
   ]
  },
  {
   "cell_type": "markdown",
   "id": "31584c86",
   "metadata": {
    "deletable": false,
    "editable": false,
    "nbgrader": {
     "cell_type": "markdown",
     "checksum": "01a900abe9c8ff01828339b17263059a",
     "grade": false,
     "grade_id": "cell-701745c232a8b4f6",
     "locked": true,
     "schema_version": 3,
     "solution": false,
     "task": false
    }
   },
   "source": [
    "On observe l'empilement des appels successifs de `somme` jusqu'à ce que le cas de base soit touché. Ces appels forment une **pile d'exécution** (ou pile d'appels, \"call stack\" en anglais).<br>\n",
    "Le cas de base correspond à la première valeur retournée (0 ici) et donc au premier appel retiré de la pile. Tous les appels précédents sont restés **en attente**.<br>\n",
    "On remonte ensuite chronologiquement la pile des appels avec à chaque fois une nouvelle valeur retournée, jusqu'à l'appel initial, appelé **appel terminal**."
   ]
  },
  {
   "cell_type": "markdown",
   "id": "22c71918",
   "metadata": {
    "deletable": false,
    "editable": false,
    "nbgrader": {
     "cell_type": "markdown",
     "checksum": "6d9af4832357193055f6d68f6441b248",
     "grade": false,
     "grade_id": "cell-3f456eaa07fac053",
     "locked": true,
     "schema_version": 3,
     "solution": false,
     "task": false
    }
   },
   "source": [
    "Combien l'expression `somme(100)` va-t-elle provoquer d'appels de la fonction `somme` ?"
   ]
  },
  {
   "cell_type": "code",
   "execution_count": null,
   "id": "990ad75c",
   "metadata": {},
   "outputs": [],
   "source": [
    "# Affectez à la variable nb_appels, l'entier correspondant à votre réponse :\n",
    "nb_appels = 0"
   ]
  },
  {
   "cell_type": "code",
   "execution_count": null,
   "id": "478744e2",
   "metadata": {
    "deletable": false,
    "editable": false,
    "nbgrader": {
     "cell_type": "code",
     "checksum": "d739466f4485a2b24469dac06c34c6dc",
     "grade": true,
     "grade_id": "cell-79058b39deff3a23",
     "locked": true,
     "points": 1,
     "schema_version": 3,
     "solution": false,
     "task": false
    }
   },
   "outputs": [],
   "source": [
    "# Cellule de correction, ne pas modifier"
   ]
  },
  {
   "cell_type": "markdown",
   "id": "d6e63c78",
   "metadata": {
    "deletable": false,
    "editable": false,
    "nbgrader": {
     "cell_type": "markdown",
     "checksum": "19926f58cd6dce55a10da75fe02c467d",
     "grade": false,
     "grade_id": "cell-b6f1fffca27a0bc8",
     "locked": true,
     "schema_version": 3,
     "solution": false,
     "task": false
    }
   },
   "source": [
    "Les choses se compliquent si plusieurs appels récursifs sont faits dans la définition de la fonction.<br>\n",
    "Le nombre d'appels progresse maintenant exponentiellement mais pas la taille de la pile d'exécution qui correspond au nombre de niveaux (à la profondeur de l'arbre).<br>"
   ]
  },
  {
   "cell_type": "code",
   "execution_count": null,
   "id": "c77a1d19",
   "metadata": {},
   "outputs": [],
   "source": [
    "cg = CallGraph()\n",
    "@viz(cg)\n",
    "def fib(n):\n",
    "    if n < 2:\n",
    "        return n\n",
    "    return fib(n-1) + fib(n-2)"
   ]
  },
  {
   "cell_type": "code",
   "execution_count": null,
   "id": "3b9fc00c",
   "metadata": {},
   "outputs": [],
   "source": [
    "print(f'fib(5) = {fib(5)}')\n",
    "cg"
   ]
  },
  {
   "cell_type": "markdown",
   "id": "477e0275",
   "metadata": {},
   "source": [
    "Comme on le voit ci-dessus, `fib(5)` fait 15 appels à la fonction mais la pile ne dépasse jamais 6 appels en attente.<br>\n",
    "En effet, `fib(5)` appelle `fib(4)` qui appelle `fib(3)`qui appelle `fib(2)` qui appelle `fib(1)`. Comme `fib(1)` est un des deux cas de base possible, il retourne la valeur 1 et est retiré de la pile. Le dernier appel en attente de la pile est alors `fib(2)`, on y retourne.<br>\n",
    "`fib(2)` fait son deuxième appel : `fib(0)`. `fib(0)` étant l'autre cas de base, il retourne une valeur (0) et est retiré de la pile. `fib(2)` peut maintenant elle aussi retourner une valeur (1+0) et est elle aussi retirée de la pile.<br> \n",
    "Le dernier appel en attente est dorénavant `fib(3)` qui fait alors son deuxième appel : `fib(1)`. `fib(1)` retourne 1 et est retiré de la liste, `fib(2)` retourne 2 (1+1) et est retirée à son tour, et on remonte à `fib(4)` qui fait son deuxième appel, `fib(2)`, qui elle-même appelle `fib(1)`, etc."
   ]
  },
  {
   "cell_type": "markdown",
   "id": "17a3d5b7",
   "metadata": {},
   "source": [
    "Quelle sera la taille maximale de la pile d'exécution de `fib(100)` ?"
   ]
  },
  {
   "cell_type": "code",
   "execution_count": null,
   "id": "2105af3e",
   "metadata": {},
   "outputs": [],
   "source": [
    "# Affectez à la variable taille_pile, l'entier correspondant à votre réponse :\n",
    "taille_pile = 0"
   ]
  },
  {
   "cell_type": "code",
   "execution_count": null,
   "id": "977ad42e",
   "metadata": {
    "deletable": false,
    "editable": false,
    "nbgrader": {
     "cell_type": "code",
     "checksum": "9e594531dcbf233cdb74b69047066116",
     "grade": true,
     "grade_id": "cell-16c2572df4176296",
     "locked": true,
     "points": 1,
     "schema_version": 3,
     "solution": false,
     "task": false
    }
   },
   "outputs": [],
   "source": [
    "# Cellule de correction, ne pas modifier"
   ]
  },
  {
   "cell_type": "markdown",
   "id": "46838039",
   "metadata": {
    "deletable": false,
    "editable": false,
    "nbgrader": {
     "cell_type": "markdown",
     "checksum": "c530fecb5ae472a40cc6ca002f33d28e",
     "grade": false,
     "grade_id": "cell-ef763fd1b6781cf6",
     "locked": true,
     "schema_version": 3,
     "solution": false,
     "task": false
    }
   },
   "source": [
    "## Deux tris récursifs"
   ]
  },
  {
   "cell_type": "markdown",
   "id": "59d4f927",
   "metadata": {},
   "source": [
    "Construisons les deux tris récursifs présentés dans la vidéo."
   ]
  },
  {
   "cell_type": "markdown",
   "id": "14f86c96",
   "metadata": {
    "deletable": false,
    "editable": false,
    "nbgrader": {
     "cell_type": "markdown",
     "checksum": "89cd72b885eb74bf453ae8e9fd5b5fde",
     "grade": false,
     "grade_id": "cell-6681f69620eb61c7",
     "locked": true,
     "schema_version": 3,
     "solution": false,
     "task": false
    }
   },
   "source": [
    "### Tri insertion"
   ]
  },
  {
   "cell_type": "markdown",
   "id": "dd27415d",
   "metadata": {
    "deletable": false,
    "editable": false,
    "nbgrader": {
     "cell_type": "markdown",
     "checksum": "4d2a7172082989d79b33bdc34573dad6",
     "grade": false,
     "grade_id": "cell-b1905ca50926b1bb",
     "locked": true,
     "schema_version": 3,
     "solution": false,
     "task": false
    }
   },
   "source": [
    "Écrire la fonction `insertion` qui insert au bon endroit un nombre dans une liste triée afin qu'elle reste triée."
   ]
  },
  {
   "cell_type": "code",
   "execution_count": null,
   "id": "1d056453",
   "metadata": {
    "deletable": false,
    "nbgrader": {
     "cell_type": "code",
     "checksum": "6951f32174203b227ab32cb957988d10",
     "grade": false,
     "grade_id": "cell-1a5a62fd99bf380b",
     "locked": false,
     "schema_version": 3,
     "solution": true,
     "task": false
    }
   },
   "outputs": [],
   "source": [
    "def insertion(element,Ltriee) :\n",
    "    \"\"\"\n",
    "    insertion(element : nombre, Ltriee : liste de nombres) -> Lsortie : liste de nombres\n",
    "    insertion insert 'nombre' au bon endroit dans 'Ltriee' et retourne cette nouvelle liste.\n",
    "    préconditions : 'element' est un entier ou un flottant, 'Ltriee' est une liste de nombres triée en ordre croissant.\n",
    "    postconditions : 'Lsortie' est triée dans l'ordre croissant (et len(Lsortie)==len(Ltriee)+1)\n",
    "    \"\"\"\n",
    "    # VOTRE CODE"
   ]
  },
  {
   "cell_type": "code",
   "execution_count": null,
   "id": "697ed88a",
   "metadata": {},
   "outputs": [],
   "source": [
    "# Cellule pour tester pour votre fonction\n"
   ]
  },
  {
   "cell_type": "code",
   "execution_count": null,
   "id": "67016874",
   "metadata": {
    "deletable": false,
    "editable": false,
    "nbgrader": {
     "cell_type": "code",
     "checksum": "2c973bdd0ae0777505a48ccb7711a450",
     "grade": true,
     "grade_id": "cell-5e653df277fba1a9",
     "locked": true,
     "points": 1,
     "schema_version": 3,
     "solution": false,
     "task": false
    }
   },
   "outputs": [],
   "source": [
    "# Cellule de correction, ne pas modifier"
   ]
  },
  {
   "cell_type": "markdown",
   "id": "a0112889",
   "metadata": {
    "deletable": false,
    "editable": false,
    "nbgrader": {
     "cell_type": "markdown",
     "checksum": "d736e2ff0664e1afbeace4fb14b10717",
     "grade": false,
     "grade_id": "cell-090a0d3f7857d641",
     "locked": true,
     "schema_version": 3,
     "solution": false,
     "task": false
    }
   },
   "source": [
    "Combien d'itérations sont nécessaires dans le pire des cas pour insérer un élément dans une liste de longueur `n` ?\n",
    "- A : $n$\n",
    "- B : $2n$\n",
    "- C : $n^2$"
   ]
  },
  {
   "cell_type": "code",
   "execution_count": null,
   "id": "7029d4cf",
   "metadata": {
    "nbgrader": {
     "grade": false,
     "grade_id": "cell-5695dfc7dd4449e6",
     "locked": false,
     "schema_version": 3,
     "solution": false,
     "task": false
    }
   },
   "outputs": [],
   "source": [
    "# Affectez à la variable Rep_1, le caractère correspondant à votre réponse parmi 'A', 'B' ou 'C'\n",
    "Rep_1 = 'D'"
   ]
  },
  {
   "cell_type": "code",
   "execution_count": null,
   "id": "091526f3",
   "metadata": {
    "deletable": false,
    "editable": false,
    "nbgrader": {
     "cell_type": "code",
     "checksum": "cdb9fbf90a5716db18d04b8496f19cb0",
     "grade": true,
     "grade_id": "cell-4c1df743a34274d6",
     "locked": true,
     "points": 1,
     "schema_version": 3,
     "solution": false,
     "task": false
    }
   },
   "outputs": [],
   "source": [
    "# Cellule de correction, ne pas modifier"
   ]
  },
  {
   "cell_type": "markdown",
   "id": "d6f294d0",
   "metadata": {
    "deletable": false,
    "editable": false,
    "nbgrader": {
     "cell_type": "markdown",
     "checksum": "1f6e19ea7feac4d427eda0f7531e5a6f",
     "grade": false,
     "grade_id": "cell-a4f39230b93739d7",
     "locked": true,
     "schema_version": 3,
     "solution": false,
     "task": false
    }
   },
   "source": [
    "Ajouter le cas de base à la fonction `tri_insertion` :"
   ]
  },
  {
   "cell_type": "code",
   "execution_count": null,
   "id": "177dbde5",
   "metadata": {
    "deletable": false,
    "nbgrader": {
     "cell_type": "code",
     "checksum": "112812e7a671e068bcba0ef52e084e41",
     "grade": false,
     "grade_id": "cell-c80f2a0bb33bd594",
     "locked": false,
     "schema_version": 3,
     "solution": true,
     "task": false
    }
   },
   "outputs": [],
   "source": [
    "def tri_insertion(liste) :\n",
    "    n = len(liste)\n",
    "    # VOTRE CODE\n",
    "    else :\n",
    "        element = liste[0]\n",
    "        reste = liste[1:]\n",
    "        return insertion(element,tri_insertion(reste))\n",
    "        # si pas de return dans le else alors tous les appels de tri_insertion avec un len > 1 sont de type None !!!"
   ]
  },
  {
   "cell_type": "code",
   "execution_count": null,
   "id": "e6afb1a8",
   "metadata": {},
   "outputs": [],
   "source": [
    "# Cellule pour tester pour votre fonction\n"
   ]
  },
  {
   "cell_type": "code",
   "execution_count": null,
   "id": "ff72291e",
   "metadata": {
    "deletable": false,
    "editable": false,
    "nbgrader": {
     "cell_type": "code",
     "checksum": "0dca69d38cf44c4e1c11c922bd184fc3",
     "grade": true,
     "grade_id": "cell-e4216d96b4b3a0cb",
     "locked": true,
     "points": 1,
     "schema_version": 3,
     "solution": false,
     "task": false
    }
   },
   "outputs": [],
   "source": [
    "# Cellule de correction, ne pas modifier"
   ]
  },
  {
   "cell_type": "markdown",
   "id": "b749377a",
   "metadata": {
    "deletable": false,
    "editable": false,
    "nbgrader": {
     "cell_type": "markdown",
     "checksum": "1612d9fc3e2e4f004984e511372bb974",
     "grade": false,
     "grade_id": "cell-cd7c4d19f833457b",
     "locked": true,
     "schema_version": 3,
     "solution": false,
     "task": false
    }
   },
   "source": [
    "Combien d'appels récursifs à `tri_insertion` sont faits quand `L` à une taille `n` ?\n",
    "- A : $n-1$\n",
    "- B : $2^n$\n",
    "- C : $\\log_2(n)$"
   ]
  },
  {
   "cell_type": "code",
   "execution_count": null,
   "id": "ec8f08d2",
   "metadata": {},
   "outputs": [],
   "source": [
    "# Affectez à la variable Rep_2, le caractère correspondant à votre réponse parmi 'A', 'B' ou 'C'\n",
    "Rep_2 = 'D'"
   ]
  },
  {
   "cell_type": "code",
   "execution_count": null,
   "id": "ffc731ce",
   "metadata": {
    "deletable": false,
    "editable": false,
    "nbgrader": {
     "cell_type": "code",
     "checksum": "95cd14f001d6dc28ce9d1e0a738c4772",
     "grade": true,
     "grade_id": "cell-3d74569b8d776d5c",
     "locked": true,
     "points": 1,
     "schema_version": 3,
     "solution": false,
     "task": false
    }
   },
   "outputs": [],
   "source": [
    "# Cellule de correction, ne pas modifier"
   ]
  },
  {
   "cell_type": "markdown",
   "id": "fba86119",
   "metadata": {
    "deletable": false,
    "editable": false,
    "nbgrader": {
     "cell_type": "markdown",
     "checksum": "b3f650d5d7f77c52029419a195cb4123",
     "grade": false,
     "grade_id": "cell-8e21a9291e11590c",
     "locked": true,
     "schema_version": 3,
     "solution": false,
     "task": false
    }
   },
   "source": [
    "### Tri fusion"
   ]
  },
  {
   "cell_type": "code",
   "execution_count": null,
   "id": "550d9b4d",
   "metadata": {
    "deletable": false,
    "editable": false,
    "nbgrader": {
     "cell_type": "code",
     "checksum": "7ea34f3605d9de986ba9cff3d5d811f8",
     "grade": false,
     "grade_id": "cell-8ba2243d037075bf",
     "locked": true,
     "schema_version": 3,
     "solution": false,
     "task": false
    }
   },
   "outputs": [],
   "source": [
    "from IPython.display import YouTubeVideo\n",
    "YouTubeVideo('XaqR3G_NVoo', width=960, height=720)"
   ]
  },
  {
   "cell_type": "markdown",
   "id": "2f2d5ae3",
   "metadata": {
    "deletable": false,
    "editable": false,
    "nbgrader": {
     "cell_type": "markdown",
     "checksum": "e8ee149319d89dd60ec8194912fc9d3a",
     "grade": false,
     "grade_id": "cell-8ff395a416b1e74a",
     "locked": true,
     "schema_version": 3,
     "solution": false,
     "task": false
    }
   },
   "source": [
    "Écrire la fonction `fusion` qui fusionne deux listes triées en une seule liste triée.<br>\n",
    "Exemple : `fusion([-12,3.5,18],[-2,15])` doit renvoyer `[-12,-2,3.5,15,18]`."
   ]
  },
  {
   "cell_type": "code",
   "execution_count": null,
   "id": "9e6aa4e8",
   "metadata": {
    "deletable": false,
    "nbgrader": {
     "cell_type": "code",
     "checksum": "6461a0642808bdbed7f5b314de446c7f",
     "grade": false,
     "grade_id": "cell-bae675eab659858b",
     "locked": false,
     "schema_version": 3,
     "solution": true,
     "task": false
    }
   },
   "outputs": [],
   "source": [
    "def fusion(Ltrie1,Ltrie2) :\n",
    "    \"\"\"\n",
    "    fusion(Ltrie1 : liste de nombres, Ltrie2 : liste de nombres) -> liste_sortie : liste de nombres\n",
    "    fusion retourne une seule liste ordonnée à partir de deux sous-listes ordonnées.\n",
    "    préconditions : Ltrie1 et Ltrie2 sont triées dans l'ordre croissant.\n",
    "    postconditions : 'Lfus' est triée dans l'ordre croissant (et len(Lfus)==len(Ltrie1)+len(Ltrie2)).\n",
    "    \"\"\"\n",
    "    # VOTRE CODE"
   ]
  },
  {
   "cell_type": "code",
   "execution_count": null,
   "id": "cb345c53",
   "metadata": {},
   "outputs": [],
   "source": [
    "# Cellule pour tester pour votre fonction\n"
   ]
  },
  {
   "cell_type": "code",
   "execution_count": null,
   "id": "9c7ef137",
   "metadata": {
    "deletable": false,
    "editable": false,
    "nbgrader": {
     "cell_type": "code",
     "checksum": "cf4c04e5c65a7bc340f25094da443d53",
     "grade": true,
     "grade_id": "cell-45dbf82c7882a50a",
     "locked": true,
     "points": 1,
     "schema_version": 3,
     "solution": false,
     "task": false
    }
   },
   "outputs": [],
   "source": [
    "# Cellule de correction, ne pas modifier"
   ]
  },
  {
   "cell_type": "markdown",
   "id": "e3d06b43",
   "metadata": {
    "deletable": false,
    "editable": false,
    "nbgrader": {
     "cell_type": "markdown",
     "checksum": "bb779a59aa9529814a55642cd55e19e2",
     "grade": false,
     "grade_id": "cell-50224e331adbf28e",
     "locked": true,
     "schema_version": 3,
     "solution": false,
     "task": false
    }
   },
   "source": [
    "Compléter la définition de `tri_fusion` pour la rendre opérante."
   ]
  },
  {
   "cell_type": "code",
   "execution_count": null,
   "id": "74b8edfc",
   "metadata": {},
   "outputs": [],
   "source": [
    "def tri_fusion(L) :\n",
    "    n = len(L)\n",
    "    if n == 1 or n == 0 :\n",
    "        return L\n",
    "    else :\n",
    "        return fusion(tri_fusion(L[...]),tri_fusion(L[...]))"
   ]
  },
  {
   "cell_type": "code",
   "execution_count": null,
   "id": "82de1273",
   "metadata": {},
   "outputs": [],
   "source": [
    "# Cellule pour tester pour votre fonction\n",
    "L = []\n",
    "tri_fusion(L)"
   ]
  },
  {
   "cell_type": "code",
   "execution_count": null,
   "id": "3119479e",
   "metadata": {
    "deletable": false,
    "editable": false,
    "nbgrader": {
     "cell_type": "code",
     "checksum": "319d23eafd5dd35a9e11871961f3e071",
     "grade": true,
     "grade_id": "cell-5344a077b8af5993",
     "locked": true,
     "points": 1,
     "schema_version": 3,
     "solution": false,
     "task": false
    }
   },
   "outputs": [],
   "source": [
    "# Cellule de correction, ne pas modifier"
   ]
  },
  {
   "cell_type": "markdown",
   "id": "be819df0",
   "metadata": {
    "deletable": false,
    "editable": false,
    "nbgrader": {
     "cell_type": "markdown",
     "checksum": "7cc19ab98bfd7fcc152b29d8f82ec222",
     "grade": false,
     "grade_id": "cell-7cafc5a139593927",
     "locked": true,
     "schema_version": 3,
     "solution": false,
     "task": false
    }
   },
   "source": [
    "Supposons que la longueur de la liste `L` soit une puissance de 2.<br>\n",
    "Au niveau de récursivité $j$ (à l'appel initial de `tri_fusion(L)`, $j=0$, pour les deux appels à `tri_fusion` au sein de `tri_fusion(L)`, $j=1$, etc.), on a décomposé le problème initial en ... fusions, chacune opérant sur des sous-listes de taille ... .<br>\n",
    "Par quoi faut-il compléter les pointillés respectivement ?\n",
    "- A : $2^j$ et $2^j$\n",
    "- B : $n/2^j$ et $n/2^j$\n",
    "- C : $2^j$ et $n/2^j$\n",
    "- D : $n/2^j$ et $2^j$"
   ]
  },
  {
   "cell_type": "code",
   "execution_count": null,
   "id": "7a3c2b46",
   "metadata": {},
   "outputs": [],
   "source": [
    "# Affectez à la variable Rep_3, le caractère correspondant à votre réponse parmi 'A', 'B', 'C' ou 'D'\n",
    "Rep_3 = 'E'"
   ]
  },
  {
   "cell_type": "code",
   "execution_count": null,
   "id": "5e9759f6",
   "metadata": {
    "deletable": false,
    "editable": false,
    "nbgrader": {
     "cell_type": "code",
     "checksum": "1b149ff657a1a9c50a338ac0d433da2f",
     "grade": true,
     "grade_id": "cell-f741156e8348a837",
     "locked": true,
     "points": 1,
     "schema_version": 3,
     "solution": false,
     "task": false
    }
   },
   "outputs": [],
   "source": [
    "# Cellule de correction, ne pas modifier"
   ]
  },
  {
   "cell_type": "markdown",
   "id": "d130b131",
   "metadata": {
    "deletable": false,
    "editable": false,
    "nbgrader": {
     "cell_type": "markdown",
     "checksum": "a45a85cedd90d1f2a8f35d0ff489b6a8",
     "grade": false,
     "grade_id": "cell-99ef1f8dae585be0",
     "locked": true,
     "schema_version": 3,
     "solution": false,
     "task": false
    }
   },
   "source": [
    "## Algorithme d'Euclide"
   ]
  },
  {
   "cell_type": "markdown",
   "id": "16ea4ff9",
   "metadata": {
    "deletable": false,
    "editable": false,
    "nbgrader": {
     "cell_type": "markdown",
     "checksum": "773208fb931b36a1ed8611a593312a9d",
     "grade": false,
     "grade_id": "cell-ea375d558f109c94",
     "locked": true,
     "schema_version": 3,
     "solution": false,
     "task": false
    }
   },
   "source": [
    "Un des plus vieux algorithmes connus, l'algorithme d'Euclide, suit un raisonnement récursif et s'écrit donc naturellement de cette façon.<br>\n",
    "Principe de l'algorithme : le plus grand commun divisieur (pgcd) entre deux nombres a et b est le même que celui entre b et le reste de la division euclidienne de a par b ($a\\pmod b$). Algébriquement, cela donne $\\text{pgcd}(a,b)=\\text{pgcd}(b,a\\pmod b)$.<br>\n",
    "On a donc ainsi réduit le problème initial en un problème plus simple, ce qui permet d'appliquer la technique algorithmique **diviser pour régner**.<br>\n",
    "\n",
    "Écrivez une fonction récursive `pgcd` permettant de calculer le pgcd entre deux nombres (n'oubliez pas le cas de base qu'il vous faudra déterminer)."
   ]
  },
  {
   "cell_type": "code",
   "execution_count": null,
   "id": "8973daf7",
   "metadata": {
    "deletable": false,
    "nbgrader": {
     "cell_type": "code",
     "checksum": "7189fa0d7aeb5b5fe4108c420f781e35",
     "grade": false,
     "grade_id": "cell-204916bb3a20fade",
     "locked": false,
     "schema_version": 3,
     "solution": true,
     "task": false
    }
   },
   "outputs": [],
   "source": [
    "def pgcd(a,b) :\n",
    "    \"\"\"\n",
    "    pgcd(a:int,b:int)->int\n",
    "    \"\"\"\n",
    "    # VOTRE CODE"
   ]
  },
  {
   "cell_type": "code",
   "execution_count": null,
   "id": "a69a5ad9",
   "metadata": {
    "deletable": false,
    "editable": false,
    "nbgrader": {
     "cell_type": "code",
     "checksum": "c30792f5d589088dc97966f3c80f6f6a",
     "grade": true,
     "grade_id": "cell-25602bb8063c90bd",
     "locked": true,
     "points": 1,
     "schema_version": 3,
     "solution": false,
     "task": false
    }
   },
   "outputs": [],
   "source": [
    "# Cellule de correction (ne pas modifier)"
   ]
  },
  {
   "cell_type": "code",
   "execution_count": null,
   "id": "64d266dd",
   "metadata": {},
   "outputs": [],
   "source": [
    "# pour tester votre fonction\n",
    "pgcd(1080,480)"
   ]
  },
  {
   "cell_type": "markdown",
   "id": "6318507d",
   "metadata": {
    "deletable": false,
    "editable": false,
    "nbgrader": {
     "cell_type": "markdown",
     "checksum": "8016784b1761980cf6a939f426da1bf6",
     "grade": false,
     "grade_id": "cell-d433a3fd4d9c2fcb",
     "locked": true,
     "schema_version": 3,
     "solution": false,
     "task": false
    }
   },
   "source": [
    "Une utilité géométrique du pgcd : le pavage d'un rectangle par les plus grands carrés possibles."
   ]
  },
  {
   "cell_type": "code",
   "execution_count": null,
   "id": "c8af8627",
   "metadata": {},
   "outputs": [],
   "source": [
    "ax.clear()\n",
    "a = 1080\n",
    "b = 480\n",
    "ax.set_xlim([0, a])\n",
    "ax.set_ylim([0, b])\n",
    "ax.add_patch(Rectangle((0,0), a, b, color='white'))\n",
    "# Le côté du plus gros carré pavant le rectangle de longueur a et largeur b vaut pgcd(a,b) !\n",
    "for i in range(a//pgcd(a,b)) : # a//pgcd(a,b) : nombre de carrés dans la longueur\n",
    "    for j in range(b//pgcd(a,b)) : # b//pgcd(a,b) : nombre de carrés dans la largeur\n",
    "        ax.add_patch(Rectangle((pgcd(a,b)*i, pgcd(a,b)*j), pgcd(a,b), pgcd(a,b),color=couleurs[(i+j)%2]))\n",
    "fig"
   ]
  },
  {
   "cell_type": "markdown",
   "id": "243c33f9",
   "metadata": {
    "deletable": false,
    "editable": false,
    "nbgrader": {
     "cell_type": "markdown",
     "checksum": "73ac07244b2ce34ede570025d8a250bd",
     "grade": false,
     "grade_id": "cell-24be58231dacf0a6",
     "locked": true,
     "schema_version": 3,
     "solution": false,
     "task": false
    }
   },
   "source": [
    "## Dessins récursifs"
   ]
  },
  {
   "cell_type": "code",
   "execution_count": null,
   "id": "f78e553e",
   "metadata": {
    "deletable": false,
    "editable": false,
    "nbgrader": {
     "cell_type": "code",
     "checksum": "4b4357103918b1cb81a38a6598c93784",
     "grade": false,
     "grade_id": "cell-a08b2ff5c6746bab",
     "locked": true,
     "schema_version": 3,
     "solution": false,
     "task": false
    }
   },
   "outputs": [],
   "source": [
    "def dessine_cercle(centre,rayon) :\n",
    "    theta = np.linspace(0, 2*np.pi, 100) # permet d'avoir 100 valeurs entre 0 et 2pi\n",
    "    x0,y0 = centre\n",
    "    x = rayon*np.cos(theta)+x0\n",
    "    y = rayon*np.sin(theta)+y0\n",
    "    ax.plot(x, y)\n",
    "    ax.fill(x, y)\n",
    "    return fig"
   ]
  },
  {
   "cell_type": "code",
   "execution_count": null,
   "id": "086ed1b5",
   "metadata": {},
   "outputs": [],
   "source": [
    "ax.clear()\n",
    "dessine_cercle((4,6),5) # cercle de centre (4,6) et de rayon 5"
   ]
  },
  {
   "cell_type": "code",
   "execution_count": null,
   "id": "96348f48",
   "metadata": {},
   "outputs": [],
   "source": [
    "def cercles(centre,rayon) :\n",
    "    dessine_cercle(centre,rayon)\n",
    "    if rayon > 0.1 :\n",
    "        cercles(centre,rayon*0.9)\n",
    "    return fig"
   ]
  },
  {
   "cell_type": "code",
   "execution_count": null,
   "id": "ad5f1fea",
   "metadata": {},
   "outputs": [],
   "source": [
    "ax.clear()\n",
    "cercles((10,10),20)"
   ]
  },
  {
   "cell_type": "markdown",
   "id": "8806ac15",
   "metadata": {
    "deletable": false,
    "editable": false,
    "nbgrader": {
     "cell_type": "markdown",
     "checksum": "c819271b0d30ca5f09ec1d4e7a3b0a9c",
     "grade": false,
     "grade_id": "cell-10fd018aecb8b39c",
     "locked": true,
     "schema_version": 3,
     "solution": false,
     "task": false
    }
   },
   "source": [
    "Définir une fonction récursive `dessin` qui affiche l'image ci-dessous avec l'appel `dessin((0,0),20)`."
   ]
  },
  {
   "cell_type": "code",
   "execution_count": null,
   "id": "0d1cb45f",
   "metadata": {
    "deletable": false,
    "nbgrader": {
     "cell_type": "code",
     "checksum": "cbdb9f4f87eef05dc72a8b232351c39a",
     "grade": true,
     "grade_id": "cell-ee63dd6f57f4be92",
     "locked": false,
     "points": 2,
     "schema_version": 3,
     "solution": true,
     "task": false
    }
   },
   "outputs": [],
   "source": [
    "def dessin(centre,rayon) :\n",
    "    # VOTRE CODE\n",
    "    return fig"
   ]
  },
  {
   "cell_type": "markdown",
   "id": "78adf8be",
   "metadata": {
    "deletable": false,
    "editable": false,
    "nbgrader": {
     "cell_type": "markdown",
     "checksum": "a1968cdaa991959e6ee44ca9362611c5",
     "grade": false,
     "grade_id": "cell-b176a2d22c013bdc",
     "locked": true,
     "schema_version": 3,
     "solution": false,
     "task": false
    }
   },
   "source": [
    "![](http://cordier-phychi.toile-libre.org/Info/github/dessin_a_reproduire.png)"
   ]
  },
  {
   "cell_type": "code",
   "execution_count": null,
   "id": "9ad5ffc6",
   "metadata": {},
   "outputs": [],
   "source": [
    "# La figure qui s'affiche en exécutant cette cellule doit être identique à l'image précédente.\n",
    "ax.clear()\n",
    "dessin((0,0),20)"
   ]
  },
  {
   "cell_type": "markdown",
   "id": "f85fbe33",
   "metadata": {
    "deletable": false,
    "editable": false,
    "nbgrader": {
     "cell_type": "markdown",
     "checksum": "f95d072fbd2aea937d64c5f9e990fb37",
     "grade": false,
     "grade_id": "cell-f782b258552905e5",
     "locked": true,
     "schema_version": 3,
     "solution": false,
     "task": false
    }
   },
   "source": [
    "## L-système (système de Lindenmayer)"
   ]
  },
  {
   "cell_type": "markdown",
   "id": "3ba60d25",
   "metadata": {},
   "source": [
    "Pour tracer une ligne brisée allant du point $\\left(0;0\\right)$ au point $\\left(2;0\\right)$ en passant par le point $\\left(1;1\\right)$ avec matplotlib, on peut faire l'appel suivant à `plot` :"
   ]
  },
  {
   "cell_type": "code",
   "execution_count": null,
   "id": "29798d35",
   "metadata": {},
   "outputs": [],
   "source": [
    "ax.clear()\n",
    "ax.plot([0, 1, 2], [0, 1, 0])\n",
    "# [0, 1, 2] sont les valeurs des x\n",
    "# et [0, 1, 0] sont les valeurs des y\n",
    "fig"
   ]
  },
  {
   "cell_type": "markdown",
   "id": "729b41d9",
   "metadata": {},
   "source": [
    "Comme c'est plus courant de penser en termes de coordonnées, on va construire une fonction `dessine_points` qui permet de tracer des lignes joignant une liste de points donnés sous le format `(x,y)`.<br>\n",
    "Par exemple : l'appel `dessine_points([(0,0),(1,1),(2,0)])` doit afficher le graphique précédent.<br>\n",
    "Complétez la définition de `dessine_points` ci-dessous."
   ]
  },
  {
   "cell_type": "code",
   "execution_count": null,
   "id": "cb3c3850",
   "metadata": {
    "deletable": false,
    "nbgrader": {
     "cell_type": "code",
     "checksum": "280a99a5b7668db0169b43ea9ff9c730",
     "grade": false,
     "grade_id": "cell-ed5b006e7108876c",
     "locked": false,
     "schema_version": 3,
     "solution": true,
     "task": false
    }
   },
   "outputs": [],
   "source": [
    "def dessine_points(liste_points) :\n",
    "    \"\"\"\n",
    "    précondition : liste_points est une liste de tuples contenant chacun deux nombres (x1,y1),(x2,y2),etc.\n",
    "    \"\"\"\n",
    "    # VOTRE CODE\n",
    "    ax.plot(X,Y)\n",
    "    return fig"
   ]
  },
  {
   "cell_type": "code",
   "execution_count": null,
   "id": "5f3b8665",
   "metadata": {},
   "outputs": [],
   "source": [
    "# L'exécution de cette cellule doit afficher le même graphe que plus haut.\n",
    "ax.clear()\n",
    "dessine_points([(0,0),(1,1),(2,0)])"
   ]
  },
  {
   "cell_type": "code",
   "execution_count": null,
   "id": "8201de26",
   "metadata": {
    "deletable": false,
    "editable": false,
    "nbgrader": {
     "cell_type": "code",
     "checksum": "26c20ae0b21784911b21f6fc82f413d8",
     "grade": true,
     "grade_id": "cell-55914cb5ac8daa31",
     "locked": true,
     "points": 1,
     "schema_version": 3,
     "solution": false,
     "task": false
    }
   },
   "outputs": [],
   "source": [
    "# Cellule de correction, ne pas modifier"
   ]
  },
  {
   "cell_type": "markdown",
   "id": "993f428a",
   "metadata": {
    "deletable": false,
    "editable": false,
    "nbgrader": {
     "cell_type": "markdown",
     "checksum": "9db69ba7e15726b5346b9ad8cedd22b0",
     "grade": false,
     "grade_id": "cell-d170ee04ddb3cda0",
     "locked": true,
     "schema_version": 3,
     "solution": false,
     "task": false
    }
   },
   "source": [
    "Le \"**graphisme tortue**\" est un style de graphique où on commande le crayon en vue subjective ; on bouge un curseur (la tortue) sur le plan cartésien en retenant systématiquement sa position et sa direction actuelles (où est la tortue et vers où elle est tournée).\n",
    "\n",
    "Dans la suite, on va faire en sorte de pouvoir envoyer trois ordres à la tortue codés chacun par un caractère :\n",
    "- 'A' : avance d'une certaine longueur dans ta direction actuelle\n",
    "- '+' : tourne dans le sens des aiguilles d'une montre d'un certain angle sans avancer\n",
    "- '-' : tourne dans le sens inverse des aiguilles d'une montre d'un certain angle sans avancer\n",
    "\n",
    "On va donc devoir convertir une suite de consignes comme 'A+A-A+A-A' en une liste de points."
   ]
  },
  {
   "cell_type": "code",
   "execution_count": null,
   "id": "47627799",
   "metadata": {
    "deletable": false,
    "editable": false,
    "nbgrader": {
     "cell_type": "code",
     "checksum": "5e48fb95220902af77a61b98f7a0285c",
     "grade": false,
     "grade_id": "cell-9f51e5d672a7546e",
     "locked": true,
     "schema_version": 3,
     "solution": false,
     "task": false
    }
   },
   "outputs": [],
   "source": [
    "from math import pi, sin, cos"
   ]
  },
  {
   "cell_type": "markdown",
   "id": "7dde7ffd",
   "metadata": {
    "deletable": false,
    "editable": false,
    "nbgrader": {
     "cell_type": "markdown",
     "checksum": "d8dde8a345ab799ef9383e185c9c3253",
     "grade": false,
     "grade_id": "cell-30194b2628e88169",
     "locked": true,
     "schema_version": 3,
     "solution": false,
     "task": false
    }
   },
   "source": [
    "Complétez la définition de `consigne_vers_points` de façon à ce que le nouveau point `(x_new,y_new)` corresponde à une tortue ayant avancé de la distance `D` dans la direction actuelle depuis `(x_old,y_old)` (il manque seulement la définition de `y_new`)."
   ]
  },
  {
   "cell_type": "code",
   "execution_count": null,
   "id": "75f9f874",
   "metadata": {
    "deletable": false,
    "nbgrader": {
     "cell_type": "code",
     "checksum": "7929aa4ed63d2d91f6cc8c98fc0daabb",
     "grade": false,
     "grade_id": "cell-5631576e6481f5cf",
     "locked": false,
     "schema_version": 3,
     "solution": true,
     "task": false
    }
   },
   "outputs": [],
   "source": [
    "def consigne_vers_points(consigne,angle) :\n",
    "    \"\"\"\n",
    "    consigne_vers_points(consigne : string) -> liste_de_points : list\n",
    "    precondition : angle est donné en radian\n",
    "    postcondition : liste_de_points est une liste de tuples contenant chacun deux nombres\n",
    "    \"\"\"\n",
    "    liste_de_points = [(0,0)]  # point de départ\n",
    "    D = 1                      # distance de laquelle la tortue avance à chaque F\n",
    "    direction = 0              # direction initiale de la tortue (vers la droite)\n",
    "    for c in consigne :\n",
    "        x_old,y_old = liste_de_points[-1]\n",
    "        if c == 'A' :\n",
    "            # création de x_new et y_new\n",
    "            x_new = x_old + D*cos(direction)\n",
    "            # VOTRE CODE\n",
    "            liste_de_points.append((x_new,y_new))\n",
    "        elif c == '+' :\n",
    "            direction -= angle\n",
    "        elif c == '-' :\n",
    "            direction += angle\n",
    "    return liste_de_points"
   ]
  },
  {
   "cell_type": "code",
   "execution_count": null,
   "id": "0a7c7097",
   "metadata": {
    "deletable": false,
    "editable": false,
    "nbgrader": {
     "cell_type": "code",
     "checksum": "fdffb3e90467245343abd09f2d91fb30",
     "grade": true,
     "grade_id": "cell-523bd86671924bc1",
     "locked": true,
     "points": 1,
     "schema_version": 3,
     "solution": false,
     "task": false
    }
   },
   "outputs": [],
   "source": [
    "# Cellule de correction, ne pas modifier"
   ]
  },
  {
   "cell_type": "code",
   "execution_count": null,
   "id": "a2b72185",
   "metadata": {},
   "outputs": [],
   "source": [
    "# Reportez-vous à la version web pour voir ce que l'exécution de ces deux lignes est sensée afficher\n",
    "ax.clear()\n",
    "dessine_points(consigne_vers_points('A-A+A--A-A',pi/4))"
   ]
  },
  {
   "cell_type": "markdown",
   "id": "ae8183b9",
   "metadata": {
    "deletable": false,
    "editable": false,
    "nbgrader": {
     "cell_type": "markdown",
     "checksum": "4fb7fd758abcf45f80ce7ef6c2e3ce79",
     "grade": false,
     "grade_id": "cell-27410f6c31779b65",
     "locked": true,
     "schema_version": 3,
     "solution": false,
     "task": false
    }
   },
   "source": [
    "Donnez la consigne et l'angle permettant de tracer le triangle équilatéral suivant (votre consigne ne devra comprendre que 5 caractères !) :\n",
    "![](http://cordier-phychi.toile-libre.org/Info/github/trianglefractale.png)"
   ]
  },
  {
   "cell_type": "code",
   "execution_count": null,
   "id": "a0163357",
   "metadata": {},
   "outputs": [],
   "source": [
    "# Complétez la consigne et l'angle :\n",
    "ax.clear()\n",
    "consigne = '...'\n",
    "angle = 0\n",
    "dessine_points(consigne_vers_points(consigne,angle))"
   ]
  },
  {
   "cell_type": "code",
   "execution_count": null,
   "id": "61ff56b6",
   "metadata": {
    "deletable": false,
    "editable": false,
    "nbgrader": {
     "cell_type": "code",
     "checksum": "06f4de8121063d72d1e312365a562e07",
     "grade": true,
     "grade_id": "cell-04cff4a123ad569e",
     "locked": true,
     "points": 1,
     "schema_version": 3,
     "solution": false,
     "task": false
    }
   },
   "outputs": [],
   "source": [
    "# Cellule de correction, ne pas modifier"
   ]
  },
  {
   "cell_type": "markdown",
   "id": "ee0604ad",
   "metadata": {},
   "source": [
    "Ajoutons un jeu de règles capables de transformer une chaîne de caractères.<br>\n",
    "Imaginons la séquence `'abca'` et les règles suivantes :\n",
    "- `'a'` -> `'b'`\n",
    "- `'b'` -> `'aba'`\n",
    "\n",
    "Alors la séquence `'abca'` transformée par la règle devient `'babacb'` (`'c'` n'étant pas touché par la règle, il n'est pas modifié).\n",
    "\n",
    "Construisez une fonction `transformation` prenant en argumant une chaîne de caractères appelée *axiome* et une *règle* donnée sous la forme d'un dictionnaire et retournant la séquence transformée.<br>\n",
    "Pour la règle de notre exemple, le dictionnaire serait `{'a':'b','b':'aba'}`."
   ]
  },
  {
   "cell_type": "code",
   "execution_count": null,
   "id": "a32c2dfc",
   "metadata": {
    "deletable": false,
    "nbgrader": {
     "cell_type": "code",
     "checksum": "fdfde5bb0e6dbf1bb08f0bf7cd0b4486",
     "grade": false,
     "grade_id": "cell-809fb2043ff942b0",
     "locked": false,
     "schema_version": 3,
     "solution": true,
     "task": false
    }
   },
   "outputs": [],
   "source": [
    "def transformation(axiome,regle) :\n",
    "    \"\"\"\n",
    "    transformation(axiome : string, regle : dictionnary) -> nvelle_chaine : string\n",
    "    \"\"\"\n",
    "    # VOTRE CODE"
   ]
  },
  {
   "cell_type": "code",
   "execution_count": null,
   "id": "f02e6d2e",
   "metadata": {},
   "outputs": [],
   "source": [
    "axiome = 'abca'\n",
    "regle = {'a':'b','b':'aba'}\n",
    "transformation(axiome,regle)\n",
    "# doit donner 'babacb'"
   ]
  },
  {
   "cell_type": "code",
   "execution_count": null,
   "id": "0cd851b6",
   "metadata": {
    "deletable": false,
    "editable": false,
    "nbgrader": {
     "cell_type": "code",
     "checksum": "9700d0488273df909d25db48da025186",
     "grade": true,
     "grade_id": "cell-6844763e9593df08",
     "locked": true,
     "points": 1,
     "schema_version": 3,
     "solution": false,
     "task": false
    }
   },
   "outputs": [],
   "source": [
    "# Cellule de correction, ne pas modifier"
   ]
  },
  {
   "cell_type": "markdown",
   "id": "122dafb9",
   "metadata": {
    "deletable": false,
    "editable": false,
    "nbgrader": {
     "cell_type": "markdown",
     "checksum": "5e2ba66b1aba550b3117d375610f79d4",
     "grade": false,
     "grade_id": "cell-d03e645d31da7422",
     "locked": true,
     "schema_version": 3,
     "solution": false,
     "task": false
    }
   },
   "source": [
    "Faisons maintenant en sorte de pouvoir appliquer la transformation à elle-même : \n",
    "- si le niveau de récursivité vaut zéro, on retourne juste l'axiome, \n",
    "- sinon, on retourne le résultat de la transformation appliquée non plus à l'axiome, mais à la transformation de l'axiome par la règle, et on diminue le niveau d'une unité (il faut faire en sorte de toujours atterrir sur le cas de base).\n",
    "\n",
    "Complétez la définition de la fonction ci-dessous et testez-la dans la cellule suivante (il ne manque que l'appel récursif)."
   ]
  },
  {
   "cell_type": "code",
   "execution_count": null,
   "id": "d39e6b7d",
   "metadata": {},
   "outputs": [],
   "source": [
    "def transformation_recu(axiome,regle,niveau) :\n",
    "    \"\"\"\n",
    "    transformation_recu(axiome : string , regle : dictionnary , niveau : int) -> nvelle_chaine : string\n",
    "    precondition : niveau doit être un entier positif !\n",
    "    \"\"\"\n",
    "    if niveau > 0 :\n",
    "        return transformation_recu(...,...,...)\n",
    "    else :\n",
    "        nvelle_chaine = axiome\n",
    "        return nvelle_chaine"
   ]
  },
  {
   "cell_type": "code",
   "execution_count": null,
   "id": "b77cd71a",
   "metadata": {},
   "outputs": [],
   "source": [
    "axiome = 'aba'\n",
    "regle = {'a':'b','b':'aba'}\n",
    "for i in range(6) :\n",
    "    print(transformation_recu(axiome,regle,i))"
   ]
  },
  {
   "cell_type": "code",
   "execution_count": null,
   "id": "b77fc68f",
   "metadata": {
    "deletable": false,
    "editable": false,
    "nbgrader": {
     "cell_type": "code",
     "checksum": "896230e267d4c567328cf2380473e981",
     "grade": true,
     "grade_id": "cell-c474799d851dbc63",
     "locked": true,
     "points": 1,
     "schema_version": 3,
     "solution": false,
     "task": false
    }
   },
   "outputs": [],
   "source": [
    "# Cellule de correction, ne pas modifier"
   ]
  },
  {
   "cell_type": "markdown",
   "id": "aa759822",
   "metadata": {
    "deletable": false,
    "editable": false,
    "nbgrader": {
     "cell_type": "markdown",
     "checksum": "3eb88870f7a828475e553c439221758e",
     "grade": false,
     "grade_id": "cell-7bd160cf71f5122b",
     "locked": true,
     "schema_version": 3,
     "solution": false,
     "task": false
    }
   },
   "source": [
    "À partir d'un axiome, d'une règle de transformation, et de l'application récursive de la transformation sur l'axiome, on obtient une consigne permettant de faire dessiner des fractales à la tortue !"
   ]
  },
  {
   "cell_type": "markdown",
   "id": "7d527d8b",
   "metadata": {
    "deletable": false,
    "editable": false,
    "nbgrader": {
     "cell_type": "markdown",
     "checksum": "61e7840f6ee0b1adaf0e576b8f106104",
     "grade": false,
     "grade_id": "cell-62e45a24f6b9d8f8",
     "locked": true,
     "schema_version": 3,
     "solution": false,
     "task": false
    }
   },
   "source": [
    "Pour le flacon de Koch, on part d'un triangle équilatéral comme axiome, et pour chaque segment de droite, on suit la règle de transformation représentée dans le schéma suivant.<br>\n",
    "À vous de déterminer l'axiome (le triangle équilatérale demandé plus haut) et la bonne règle."
   ]
  },
  {
   "cell_type": "markdown",
   "id": "266de4c9",
   "metadata": {
    "deletable": false,
    "editable": false,
    "nbgrader": {
     "cell_type": "markdown",
     "checksum": "b892d5e68e6f07be8ed0dacfe3ab71b1",
     "grade": false,
     "grade_id": "cell-1124195bd325c54f",
     "locked": true,
     "schema_version": 3,
     "solution": false,
     "task": false
    }
   },
   "source": [
    "![](http://cordier-phychi.toile-libre.org/Info/github/RegleKoch.png)"
   ]
  },
  {
   "cell_type": "code",
   "execution_count": null,
   "id": "48e6f802",
   "metadata": {},
   "outputs": [],
   "source": [
    "# Complétez l'axiome et la règle :\n",
    "axiome = '...'\n",
    "regle_Koch = {'A':'...'}"
   ]
  },
  {
   "cell_type": "code",
   "execution_count": null,
   "id": "7c0f8365",
   "metadata": {
    "deletable": false,
    "editable": false,
    "nbgrader": {
     "cell_type": "code",
     "checksum": "8c76e2743296597aca418c65b51263d4",
     "grade": true,
     "grade_id": "cell-8739ec4a88197235",
     "locked": true,
     "points": 1,
     "schema_version": 3,
     "solution": false,
     "task": false
    }
   },
   "outputs": [],
   "source": [
    "# Cellule de correction, ne pas modifier"
   ]
  },
  {
   "cell_type": "code",
   "execution_count": null,
   "id": "8932d570",
   "metadata": {},
   "outputs": [],
   "source": [
    "ax.clear()\n",
    "dessine_points(consigne_vers_points(transformation_recu(axiome,regle_Koch,5),pi/3))"
   ]
  },
  {
   "cell_type": "markdown",
   "id": "0b7690f6",
   "metadata": {
    "deletable": false,
    "editable": false,
    "nbgrader": {
     "cell_type": "markdown",
     "checksum": "571d006bbe7128007a59dc7f12de78d7",
     "grade": false,
     "grade_id": "cell-9a95c381da899284",
     "locked": true,
     "schema_version": 3,
     "solution": false,
     "task": false
    }
   },
   "source": [
    "Autre exemple : comment construire une surface 2D à partir d'une courbe 1D avec la courbe de Hilbert."
   ]
  },
  {
   "cell_type": "code",
   "execution_count": null,
   "id": "0ddefb93",
   "metadata": {},
   "outputs": [],
   "source": [
    "axiome = 'L'\n",
    "regle_Hilbert = {'L':'-RA+LAL+AR-','R': '+LA-RAR-AL+'}\n",
    "ax.clear()\n",
    "dessine_points(consigne_vers_points(transformation_recu(axiome,regle_Hilbert,6),pi/2))"
   ]
  },
  {
   "cell_type": "markdown",
   "id": "91e63aef",
   "metadata": {
    "deletable": false,
    "editable": false,
    "nbgrader": {
     "cell_type": "markdown",
     "checksum": "e20d046f6dbe330fbde7fbfd6bb724e7",
     "grade": false,
     "grade_id": "cell-63b6f9eab957204e",
     "locked": true,
     "schema_version": 3,
     "solution": false,
     "task": false
    }
   },
   "source": [
    "Autre exemple : un triangle de Sierpinski."
   ]
  },
  {
   "cell_type": "code",
   "execution_count": null,
   "id": "b5242570",
   "metadata": {},
   "outputs": [],
   "source": [
    "axiome = \"YA\"\n",
    "regle = {\"X\":\"YA+XA+Y\", \"Y\":\"XA-YA-X\"}\n",
    "angle = pi/3\n",
    "ax.clear()\n",
    "dessine_points(consigne_vers_points(transformation_recu(axiome,regle,9),angle))"
   ]
  },
  {
   "cell_type": "markdown",
   "id": "17c71d4b",
   "metadata": {},
   "source": [
    "Et enfin, une jolie courbe du dragon."
   ]
  },
  {
   "cell_type": "code",
   "execution_count": null,
   "id": "4bf46cc5",
   "metadata": {},
   "outputs": [],
   "source": [
    "axiome = \"AX\"\n",
    "regle = {\"X\":\"X+YA+\", \"Y\":\"-AX-Y\"}\n",
    "angle = pi/2\n",
    "ax.clear()\n",
    "dessine_points(consigne_vers_points(transformation_recu(axiome,regle,16),angle))"
   ]
  },
  {
   "cell_type": "markdown",
   "id": "ab6a4c80",
   "metadata": {
    "deletable": false,
    "editable": false,
    "nbgrader": {
     "cell_type": "markdown",
     "checksum": "6289afe787f1e65a314de7dae86c5961",
     "grade": false,
     "grade_id": "cell-61ecba857a85ff16",
     "locked": true,
     "schema_version": 3,
     "solution": false,
     "task": false
    }
   },
   "source": [
    "En donnant de la mémoire à la tortue, on va pouvoir desiner des branches.<br>\n",
    "Pour cela, il faut ajouter deux nouvelles consignes à `consigne_vers_points_branche` :\n",
    "- `[` : qui ajoute à une liste (la \"mémoire\"), la position actuelle de la tortue.\n",
    "- `[` : qui permet à la tortue de retourner à la dernière position en mémoire."
   ]
  },
  {
   "cell_type": "markdown",
   "id": "cc86c3f3",
   "metadata": {
    "deletable": false,
    "editable": false,
    "nbgrader": {
     "cell_type": "markdown",
     "checksum": "08710bdb8777dabd560dd97ef03107d2",
     "grade": false,
     "grade_id": "cell-ba2429eaec318111",
     "locked": true,
     "schema_version": 3,
     "solution": false,
     "task": false
    }
   },
   "source": [
    "Voici une implémentation possible d'une fonction `consigne_vers_points_branche` intégrant ces deux nouvelles consignes :"
   ]
  },
  {
   "cell_type": "code",
   "execution_count": null,
   "id": "1d80a82d",
   "metadata": {},
   "outputs": [],
   "source": [
    "def consigne_vers_points_branche(consigne,angle) :\n",
    "    liste_de_points = [(0,0)]  \n",
    "    D = 1                      \n",
    "    direction = pi/2\n",
    "    memoire = []\n",
    "    for c in consigne :\n",
    "        x_old,y_old = liste_de_points[-1]\n",
    "        if c == 'A' :\n",
    "            x_new = x_old+D*cos(direction)\n",
    "            y_new = y_old+D*sin(direction)\n",
    "            liste_de_points.append((x_new,y_new))\n",
    "        elif c == '+' :\n",
    "            direction -= angle\n",
    "        elif c == '-' :\n",
    "            direction += angle\n",
    "        elif c == '[' :\n",
    "            memoire.append(((x_old,y_old),direction))\n",
    "        elif c == ']' :\n",
    "            souvenir = memoire.pop()\n",
    "            x_new,y_new = souvenir[0]\n",
    "            direction  = souvenir[1]\n",
    "            liste_de_points.append((float('nan'),float('nan')))\n",
    "            liste_de_points.append((x_new,y_new))\n",
    "    return liste_de_points"
   ]
  },
  {
   "cell_type": "code",
   "execution_count": null,
   "id": "e1db0416",
   "metadata": {
    "deletable": false,
    "editable": false,
    "nbgrader": {
     "cell_type": "code",
     "checksum": "3a39cc553db6325ddee650413e33bcaa",
     "grade": false,
     "grade_id": "cell-99e073512c5b94d9",
     "locked": true,
     "schema_version": 3,
     "solution": false,
     "task": false
    }
   },
   "outputs": [],
   "source": [
    "ax.clear()\n",
    "dessine_points(consigne_vers_points_branche('A[-A]+A', pi/4))"
   ]
  },
  {
   "cell_type": "markdown",
   "id": "ee65fa87",
   "metadata": {
    "deletable": false,
    "editable": false,
    "nbgrader": {
     "cell_type": "markdown",
     "checksum": "3302bba5e09709507ec5d6eb8e446594",
     "grade": false,
     "grade_id": "cell-9536dbeed916c56f",
     "locked": true,
     "schema_version": 3,
     "solution": false,
     "task": false
    }
   },
   "source": [
    "Reproduisez la figure suivante en définissant la bonne consigne et le bon angle :\n",
    "![](http://cordier-phychi.toile-libre.org/Info/github/bonhomerecu.png)"
   ]
  },
  {
   "cell_type": "code",
   "execution_count": null,
   "id": "e71d9b08",
   "metadata": {},
   "outputs": [],
   "source": [
    "# Complétez la consigne et l'angle :\n",
    "ax.clear()\n",
    "consigne = '...'\n",
    "angle = 0\n",
    "dessine_points(consigne_vers_points_branche(consigne, angle))\n",
    "draw_circle = plt.Circle((0.5, 2.7), 0.3)\n",
    "ax.add_artist(draw_circle)\n",
    "fig"
   ]
  },
  {
   "cell_type": "code",
   "execution_count": null,
   "id": "f4dbf8c7",
   "metadata": {
    "deletable": false,
    "editable": false,
    "nbgrader": {
     "cell_type": "code",
     "checksum": "ce55b000e2815545ac9c9a7ce538d92b",
     "grade": true,
     "grade_id": "cell-bfa00ed6bbfe80f8",
     "locked": true,
     "points": 1,
     "schema_version": 3,
     "solution": false,
     "task": false
    }
   },
   "outputs": [],
   "source": [
    "# Cellule de correction, ne pas modifier"
   ]
  },
  {
   "cell_type": "markdown",
   "id": "52ddde56",
   "metadata": {
    "deletable": false,
    "editable": false,
    "nbgrader": {
     "cell_type": "markdown",
     "checksum": "d1f1a701c0e137820f10440daab228bf",
     "grade": false,
     "grade_id": "cell-8893a26956d8dca7",
     "locked": true,
     "schema_version": 3,
     "solution": false,
     "task": false
    }
   },
   "source": [
    "Et en utilisant la récursivité, on peut finalement dessiner de jolis arbres :"
   ]
  },
  {
   "cell_type": "code",
   "execution_count": null,
   "id": "80cb05d8",
   "metadata": {},
   "outputs": [],
   "source": [
    "axiome = 'P'\n",
    "regle = {'A': 'AA', 'P': 'A[+PA-[P]--P][---P]'}\n",
    "angle = pi*0.11\n",
    "ax.clear()\n",
    "dessine_points(consigne_vers_points_branche(transformation_recu(axiome,regle,8),angle))"
   ]
  },
  {
   "cell_type": "code",
   "execution_count": null,
   "id": "f26b7dc1",
   "metadata": {},
   "outputs": [],
   "source": []
  }
 ],
 "metadata": {
  "kernelspec": {
   "display_name": "Python 3",
   "language": "python",
   "name": "python3"
  },
  "language_info": {
   "codemirror_mode": {
    "name": "ipython",
    "version": 3
   },
   "file_extension": ".py",
   "mimetype": "text/x-python",
   "name": "python",
   "nbconvert_exporter": "python",
   "pygments_lexer": "ipython3",
   "version": "3.8.12"
  }
 },
 "nbformat": 4,
 "nbformat_minor": 5
}
